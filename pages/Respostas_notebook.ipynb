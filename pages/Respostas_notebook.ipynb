{
 "cells": [
  {
   "cell_type": "markdown",
   "id": "c995651b-1cab-44c6-98d5-1e6cd659902d",
   "metadata": {},
   "source": [
    "Importando bibliotecas"
   ]
  },
  {
   "cell_type": "code",
   "execution_count": 2,
   "id": "d7979057-a959-4c13-967b-e69efeacbe02",
   "metadata": {},
   "outputs": [],
   "source": [
    "from haversine import haversine\n",
    "from PIL import Image\n",
    "import plotly.express as px\n",
    "import plotly.graph_objects as go\n",
    "import pandas as pd\n",
    "import streamlit as st\n",
    "import folium\n",
    "from streamlit_folium import folium_static\n",
    "import inflection"
   ]
  },
  {
   "cell_type": "raw",
   "id": "36f1118d-9dc7-4c74-8caa-24ffcdb2f304",
   "metadata": {},
   "source": [
    "Importando csv"
   ]
  },
  {
   "cell_type": "code",
   "execution_count": 3,
   "id": "59e675f9-0072-44ea-b554-847d6c6180fc",
   "metadata": {},
   "outputs": [],
   "source": [
    "df = pd.read_csv(r'C:\\Users\\Leticia Furletti\\Repos\\FTC\\project1\\Datasets\\zomato.csv')"
   ]
  },
  {
   "cell_type": "markdown",
   "id": "de06ccf2-7a7f-402e-9b2a-0434e9c915ba",
   "metadata": {},
   "source": [
    "Limpeza do data frame"
   ]
  },
  {
   "cell_type": "markdown",
   "id": "4ff1c733-c11f-4c12-8e69-f84112eda3bd",
   "metadata": {},
   "source": [
    "Substituindo valores em branco (NaN) pelo valor mais utilizado na coluna"
   ]
  },
  {
   "cell_type": "code",
   "execution_count": 4,
   "id": "26b3d9bc-c8ca-4290-96e7-ca61fb1cf0d5",
   "metadata": {},
   "outputs": [],
   "source": [
    "#print(df)\n",
    "#print(df.dtypes)\n",
    "#print(df.isna().sum())\n",
    "#print(list(df[\"Cuisines\"].unique()))\n",
    "#print(df[\"Cuisines\"].value_counts())\n",
    "df[\"Cuisines\"]=df[\"Cuisines\"].fillna('Pizza, Fast Food')\n",
    "#print(df.isna().sum())"
   ]
  },
  {
   "cell_type": "markdown",
   "id": "1855681d-5935-441b-975b-46a74f86fbf0",
   "metadata": {},
   "source": [
    "Renomear colunas tirando espaço e coloca underline"
   ]
  },
  {
   "cell_type": "code",
   "execution_count": 5,
   "id": "b06e381e-176b-445f-aa9b-386f812c5386",
   "metadata": {},
   "outputs": [],
   "source": [
    "def rename_columns(dataframe):\n",
    "    df = dataframe.copy()\n",
    "    title = lambda x: inflection.titleize(x)\n",
    "    snakecase = lambda x: inflection.underscore(x)\n",
    "    spaces = lambda x: x.replace(\" \", \"\")\n",
    "    cols_old = list(df.columns)\n",
    "    cols_old = list(map(title, cols_old))\n",
    "    cols_old = list(map(spaces, cols_old))\n",
    "    cols_new = list(map(snakecase, cols_old))\n",
    "    df.columns = cols_new\n",
    "    return df\n",
    "df = rename_columns(df)"
   ]
  },
  {
   "cell_type": "markdown",
   "id": "ea389f80-dde4-4d21-8931-b59fc7225b1f",
   "metadata": {},
   "source": [
    "Substituir codigos da coluna country_code por palavras"
   ]
  },
  {
   "cell_type": "code",
   "execution_count": 6,
   "id": "ab66cf33-e79e-42bf-b54b-75cc38139f45",
   "metadata": {},
   "outputs": [],
   "source": [
    "countries = { \n",
    "    1: \"India\",\n",
    "    14: \"Australia\",\n",
    "    30: \"Brazil\",\n",
    "    37: \"Canada\",\n",
    "    94: \"Indonesia\",\n",
    "    148: \"New Zeland\",\n",
    "    162: \"Philippines\",\n",
    "    166: \"Qatar\",\n",
    "    184: \"Singapure\",\n",
    "    189: \"South Africa\",\n",
    "    191: \"Sri Lanka\",\n",
    "    208: \"Turkey\",\n",
    "    214: \"United Arab Emirates\",\n",
    "    215: \"England\",\n",
    "    216: \"United States of America\",\n",
    "}\n",
    "def country_name(country_id):\n",
    "    return countries[country_id]\n",
    "df[\"country_code\"]=df[\"country_code\"].apply(country_name)"
   ]
  },
  {
   "cell_type": "markdown",
   "id": "fc460ea3-3112-480e-bde1-150f4a15d3a8",
   "metadata": {},
   "source": [
    "Substituir codigos da coluna price_range por palavras"
   ]
  },
  {
   "cell_type": "code",
   "execution_count": 7,
   "id": "a5bc3fa2-0061-42ba-bf6d-1efe720b07c9",
   "metadata": {},
   "outputs": [],
   "source": [
    "def create_price_tye(price_range):\n",
    "    if price_range == 1:\n",
    "        return \"cheap\"\n",
    "    elif price_range == 2:\n",
    "        return \"normal\"\n",
    "    elif price_range == 3:\n",
    "        return \"expensive\"\n",
    "    else:\n",
    "        return \"gourmet\"\n",
    "df[\"price_range\"]=df[\"price_range\"].apply(create_price_tye)"
   ]
  },
  {
   "cell_type": "markdown",
   "id": "19b23b6b-2cd8-4325-9a74-71cd2ef94c74",
   "metadata": {},
   "source": [
    "Substituir codigos da coluna rating_colors por palavras"
   ]
  },
  {
   "cell_type": "code",
   "execution_count": 8,
   "id": "8c40345f-f47c-4691-830f-e1a25681ef34",
   "metadata": {},
   "outputs": [],
   "source": [
    "COLORS = {\n",
    "\"3F7E00\": \"darkgreen\",\n",
    "\"5BA829\": \"green\",\n",
    "\"9ACD32\": \"lightgreen\",\n",
    "\"CDD614\": \"orange\",\n",
    "\"FFBA00\": \"red\",\n",
    "\"CBCBC8\": \"darkred\",\n",
    "\"FF7800\": \"darkred\",\n",
    "}\n",
    "def color_name(color_code):\n",
    "    return COLORS[color_code]\n",
    "df[\"rating_color\"]=df[\"rating_color\"].apply(color_name)"
   ]
  },
  {
   "cell_type": "markdown",
   "id": "2793b9f5-a435-4fbd-b05a-1de30eb9c198",
   "metadata": {},
   "source": [
    "Coluna cuisines apresentava mais de um valor por celula, separando-os por virgula. Essa função mantera apenas o primeiro dos valores"
   ]
  },
  {
   "cell_type": "code",
   "execution_count": 9,
   "id": "fac8c678-7cc7-4ba8-80fc-99d9124d27e9",
   "metadata": {},
   "outputs": [],
   "source": [
    "df[\"cuisines\"] = df.loc[:, \"cuisines\"].apply(lambda x: x.split(\",\")[0])"
   ]
  },
  {
   "cell_type": "code",
   "execution_count": 10,
   "id": "12704e55-66a2-43d9-8f18-f04f27cb6507",
   "metadata": {},
   "outputs": [
    {
     "data": {
      "text/plain": [
       "Index(['restaurant_id', 'restaurant_name', 'country_code', 'city', 'address',\n",
       "       'locality', 'locality_verbose', 'longitude', 'latitude', 'cuisines',\n",
       "       'average_cost_for_two', 'currency', 'has_table_booking',\n",
       "       'has_online_delivery', 'is_delivering_now', 'switch_to_order_menu',\n",
       "       'price_range', 'aggregate_rating', 'rating_color', 'rating_text',\n",
       "       'votes'],\n",
       "      dtype='object')"
      ]
     },
     "execution_count": 10,
     "metadata": {},
     "output_type": "execute_result"
    }
   ],
   "source": [
    "df.columns"
   ]
  },
  {
   "cell_type": "markdown",
   "id": "1ce4c4ae-e9b7-4a6c-9602-ff670d6f6023",
   "metadata": {},
   "source": [
    "Respondendo as perguntas - Geral"
   ]
  },
  {
   "cell_type": "markdown",
   "id": "0acfacb8-4636-45bb-9dce-db3547802cdf",
   "metadata": {},
   "source": [
    "1. Quantos restaurantes únicos estão registrados?"
   ]
  },
  {
   "cell_type": "code",
   "execution_count": 10,
   "id": "92d0f4a7-4058-4cd5-867f-e707ea0bc0ef",
   "metadata": {},
   "outputs": [
    {
     "data": {
      "text/plain": [
       "6942"
      ]
     },
     "execution_count": 10,
     "metadata": {},
     "output_type": "execute_result"
    }
   ],
   "source": [
    "len(df[\"restaurant_id\"].unique())"
   ]
  },
  {
   "cell_type": "markdown",
   "id": "4ff98fa8-a5d1-4fc7-ac5b-c6211b911597",
   "metadata": {},
   "source": [
    "2. Quantos países únicos estão registrados?"
   ]
  },
  {
   "cell_type": "code",
   "execution_count": 22,
   "id": "9272ad30-f1ba-434c-996b-2ba541f132ea",
   "metadata": {},
   "outputs": [
    {
     "data": {
      "text/plain": [
       "15"
      ]
     },
     "execution_count": 22,
     "metadata": {},
     "output_type": "execute_result"
    }
   ],
   "source": [
    "len(df[\"country_code\"].unique())"
   ]
  },
  {
   "cell_type": "markdown",
   "id": "9da2325f-faa9-4428-bff0-54af697d1067",
   "metadata": {},
   "source": [
    "3. Quantas cidades únicas estão registradas?"
   ]
  },
  {
   "cell_type": "code",
   "execution_count": 20,
   "id": "1e136036-909e-4c40-8f4f-f3c02fe7dbc6",
   "metadata": {},
   "outputs": [
    {
     "data": {
      "text/plain": [
       "125"
      ]
     },
     "execution_count": 20,
     "metadata": {},
     "output_type": "execute_result"
    }
   ],
   "source": [
    "len(df[\"city\"].unique())"
   ]
  },
  {
   "cell_type": "markdown",
   "id": "ab2e4524-34d5-4674-bd24-0bc125a5321f",
   "metadata": {},
   "source": [
    "3.Qual o total de avaliações feitas?"
   ]
  },
  {
   "cell_type": "code",
   "execution_count": 14,
   "id": "7dabb0fd-819a-486d-82bb-0f017554a13f",
   "metadata": {},
   "outputs": [
    {
     "data": {
      "text/plain": [
       "4639654"
      ]
     },
     "execution_count": 14,
     "metadata": {},
     "output_type": "execute_result"
    }
   ],
   "source": [
    "df[\"votes\"].sum()"
   ]
  },
  {
   "cell_type": "code",
   "execution_count": 16,
   "id": "d7f4d94d-c751-4fbb-91de-8fee167c0a8f",
   "metadata": {},
   "outputs": [
    {
     "data": {
      "text/plain": [
       "165"
      ]
     },
     "execution_count": 16,
     "metadata": {},
     "output_type": "execute_result"
    }
   ],
   "source": [
    "len(df[\"cuisines\"].unique())"
   ]
  },
  {
   "cell_type": "markdown",
   "id": "9bc80c03-1743-41db-ad29-849adaa8cf2e",
   "metadata": {},
   "source": [
    "Respondendo as perguntas - Pais"
   ]
  },
  {
   "cell_type": "markdown",
   "id": "003bb6ad-175a-40a2-8160-27a8ba91f67c",
   "metadata": {},
   "source": [
    "1. Qual o nome do país que possui mais cidades registradas?"
   ]
  },
  {
   "cell_type": "code",
   "execution_count": 80,
   "id": "9ae34ee4-4c80-4bcf-9fdf-42a79827db16",
   "metadata": {},
   "outputs": [
    {
     "data": {
      "text/plain": [
       "'India'"
      ]
     },
     "execution_count": 80,
     "metadata": {},
     "output_type": "execute_result"
    }
   ],
   "source": [
    "df.loc[:,['city', 'country_code']].drop_duplicates().groupby('country_code').count().reset_index().sort_values('city', ascending = False).iloc[0,0]"
   ]
  },
  {
   "cell_type": "markdown",
   "id": "0a60c657-58a0-4e8d-a3f9-0b029eadbc4c",
   "metadata": {},
   "source": [
    " 2. Qual o nome do país que possui mais restaurantes registrados?"
   ]
  },
  {
   "cell_type": "code",
   "execution_count": 79,
   "id": "72b4de0c-5e75-443f-8858-9c3c4121848e",
   "metadata": {},
   "outputs": [
    {
     "data": {
      "text/plain": [
       "'India'"
      ]
     },
     "execution_count": 79,
     "metadata": {},
     "output_type": "execute_result"
    }
   ],
   "source": [
    "df.loc[:,['restaurant_id', 'country_code']].drop_duplicates().groupby('country_code').count().reset_index().sort_values('restaurant_id', ascending = False).iloc[0,0]"
   ]
  },
  {
   "cell_type": "markdown",
   "id": "106cc851-05e1-411f-9424-1d10ed42ade6",
   "metadata": {},
   "source": [
    "3. Qual o nome do país que possui mais restaurantes com o nível de preço igual a 4 registrados?"
   ]
  },
  {
   "cell_type": "code",
   "execution_count": 20,
   "id": "b120f629-42ca-4e70-ada2-1200f119c02b",
   "metadata": {},
   "outputs": [
    {
     "data": {
      "text/plain": [
       "'India'"
      ]
     },
     "execution_count": 20,
     "metadata": {},
     "output_type": "execute_result"
    }
   ],
   "source": [
    "df.loc[df[\"aggregate_rating\"] == 4,\"country_code\"].value_counts().reset_index().iloc[0,0]"
   ]
  },
  {
   "cell_type": "code",
   "execution_count": 62,
   "id": "004509e9-feb7-4ec4-9334-18a64db309ff",
   "metadata": {},
   "outputs": [
    {
     "name": "stdout",
     "output_type": "stream",
     "text": [
      "India\n"
     ]
    }
   ],
   "source": [
    "\n",
    "nome_pais = list(df['country_code'].unique()) #vai me dar os paises existentes\n",
    "total_paises =  0 #fazendo isso só pra definir minha variavel (que recebe integer)\n",
    "nivel_preco = '' #fazendo isso só pra definir minha variavel (que recebe string)\n",
    "\n",
    "for paises in nome_pais:\n",
    "  filtro = (df['country_code'] == paises) & (df['aggregate_rating'] == 4  )\n",
    "  resultante_do_filtro = df.loc[filtro, :].shape[0]\n",
    "  if total_paises < resultante_do_filtro:\n",
    "    total_paises  = resultante_do_filtro \n",
    "    nome_pais = paises\n",
    "\n",
    "print(nome_pais)"
   ]
  },
  {
   "cell_type": "markdown",
   "id": "82f22465-f7ee-4052-8ca8-5161538c47ac",
   "metadata": {},
   "source": [
    "4. Qual o nome do país que possui a maior quantidade de tipos de culinária distintos?"
   ]
  },
  {
   "cell_type": "code",
   "execution_count": 69,
   "id": "07835faa-7ab5-4de4-b4fe-c2081b1470dc",
   "metadata": {},
   "outputs": [
    {
     "data": {
      "text/plain": [
       "'India'"
      ]
     },
     "execution_count": 69,
     "metadata": {},
     "output_type": "execute_result"
    }
   ],
   "source": [
    "df.loc[:,['cuisines', 'country_code']].drop_duplicates().groupby('country_code').count().reset_index().sort_values('cuisines', ascending = False).iloc[0,0]"
   ]
  },
  {
   "cell_type": "markdown",
   "id": "102ccf0c-9de2-48cc-83e5-a8a78d97d2ba",
   "metadata": {},
   "source": [
    "5. Qual o nome do país que possui a maior quantidade de avaliações feitas?"
   ]
  },
  {
   "cell_type": "code",
   "execution_count": 62,
   "id": "b8d9b2ad-4bad-409d-9961-45c5e3248ce4",
   "metadata": {},
   "outputs": [
    {
     "data": {
      "text/plain": [
       "'Brazil'"
      ]
     },
     "execution_count": 62,
     "metadata": {},
     "output_type": "execute_result"
    }
   ],
   "source": [
    "df.loc[:,['aggregate_rating', 'country_code']].drop_duplicates().groupby('country_code').count().reset_index().sort_values('aggregate_rating', ascending = False).iloc[0,0]"
   ]
  },
  {
   "cell_type": "markdown",
   "id": "fb0a8052-f6c8-4141-91c8-8b8b0d5e336a",
   "metadata": {},
   "source": [
    "6. Qual o nome do país que possui a maior quantidade de restaurantes que fazem entrega?"
   ]
  },
  {
   "cell_type": "code",
   "execution_count": 104,
   "id": "e10acc76-2eaf-4560-9c30-13bdea2cf458",
   "metadata": {},
   "outputs": [
    {
     "data": {
      "text/plain": [
       "India    1247\n",
       "Name: country_code, dtype: int64"
      ]
     },
     "execution_count": 104,
     "metadata": {},
     "output_type": "execute_result"
    }
   ],
   "source": [
    "df.loc[df[\"is_delivering_now\"] > 0  ,\"country_code\"].value_counts().head(1)"
   ]
  },
  {
   "cell_type": "markdown",
   "id": "6b8ce6b4-77a5-49d5-89b6-2d9743feb1b9",
   "metadata": {},
   "source": [
    "7. Qual o nome do país que possui a maior quantidade de restaurantes que aceitam reservas?"
   ]
  },
  {
   "cell_type": "code",
   "execution_count": 150,
   "id": "39e8c9b6-87e8-481c-b1db-e3adcc250518",
   "metadata": {},
   "outputs": [
    {
     "data": {
      "text/plain": [
       "'India'"
      ]
     },
     "execution_count": 150,
     "metadata": {},
     "output_type": "execute_result"
    }
   ],
   "source": [
    "df.loc[df[\"has_table_booking\"] > 0  ,\"country_code\"].value_counts().reset_index().iloc[0,0]"
   ]
  },
  {
   "cell_type": "markdown",
   "id": "78031ba8-11ad-4dd1-80da-939a9b25fb22",
   "metadata": {},
   "source": [
    "8. Qual o nome do país que possui, na média, a maior quantidade de avaliações registrada?"
   ]
  },
  {
   "cell_type": "code",
   "execution_count": 120,
   "id": "32059fd2-1987-42f6-8df6-ccdd62636ffb",
   "metadata": {},
   "outputs": [
    {
     "data": {
      "text/plain": [
       "'Indonesia'"
      ]
     },
     "execution_count": 120,
     "metadata": {},
     "output_type": "execute_result"
    }
   ],
   "source": [
    "df.loc[:, ['aggregate_rating', 'country_code']].groupby('country_code').mean().sort_values('aggregate_rating', ascending = False).reset_index().iloc[0,0]"
   ]
  },
  {
   "cell_type": "markdown",
   "id": "92572324-3277-460a-aa2f-770ee7e78d7a",
   "metadata": {},
   "source": [
    "9. Qual o nome do país que possui, na média, a maior nota média registrada?"
   ]
  },
  {
   "cell_type": "code",
   "execution_count": 24,
   "id": "2d764a3c-c790-4a7e-8b17-bdb2b74817a3",
   "metadata": {},
   "outputs": [
    {
     "data": {
      "text/plain": [
       "5    Indonesia\n",
       "Name: country_code, dtype: object"
      ]
     },
     "execution_count": 24,
     "metadata": {},
     "output_type": "execute_result"
    }
   ],
   "source": [
    "aux=df.loc[:,['aggregate_rating', 'country_code']].groupby('country_code').mean().reset_index()\n",
    "aux.loc[aux['aggregate_rating'] == aux['aggregate_rating'].max(), 'country_code']"
   ]
  },
  {
   "cell_type": "code",
   "execution_count": 33,
   "id": "68db8429-1a81-4cb3-923e-a8ef57f1ca10",
   "metadata": {},
   "outputs": [
    {
     "data": {
      "text/html": [
       "<div>\n",
       "<style scoped>\n",
       "    .dataframe tbody tr th:only-of-type {\n",
       "        vertical-align: middle;\n",
       "    }\n",
       "\n",
       "    .dataframe tbody tr th {\n",
       "        vertical-align: top;\n",
       "    }\n",
       "\n",
       "    .dataframe thead th {\n",
       "        text-align: right;\n",
       "    }\n",
       "</style>\n",
       "<table border=\"1\" class=\"dataframe\">\n",
       "  <thead>\n",
       "    <tr style=\"text-align: right;\">\n",
       "      <th></th>\n",
       "      <th>restaurant_id</th>\n",
       "      <th>restaurant_name</th>\n",
       "      <th>country_code</th>\n",
       "      <th>city</th>\n",
       "      <th>address</th>\n",
       "      <th>locality</th>\n",
       "      <th>locality_verbose</th>\n",
       "      <th>longitude</th>\n",
       "      <th>latitude</th>\n",
       "      <th>cuisines</th>\n",
       "      <th>...</th>\n",
       "      <th>currency</th>\n",
       "      <th>has_table_booking</th>\n",
       "      <th>has_online_delivery</th>\n",
       "      <th>is_delivering_now</th>\n",
       "      <th>switch_to_order_menu</th>\n",
       "      <th>price_range</th>\n",
       "      <th>aggregate_rating</th>\n",
       "      <th>rating_color</th>\n",
       "      <th>rating_text</th>\n",
       "      <th>votes</th>\n",
       "    </tr>\n",
       "  </thead>\n",
       "  <tbody>\n",
       "    <tr>\n",
       "      <th>0</th>\n",
       "      <td>6310675</td>\n",
       "      <td>Mama Lou's Italian Kitchen</td>\n",
       "      <td>Philippines</td>\n",
       "      <td>Las Piñas City</td>\n",
       "      <td>Block 1, Lot 36, Tropical Avenue Corner Tropic...</td>\n",
       "      <td>BF International</td>\n",
       "      <td>BF International, Las Piñas City</td>\n",
       "      <td>121.009787</td>\n",
       "      <td>14.447615</td>\n",
       "      <td>Italian</td>\n",
       "      <td>...</td>\n",
       "      <td>Botswana Pula(P)</td>\n",
       "      <td>1</td>\n",
       "      <td>0</td>\n",
       "      <td>0</td>\n",
       "      <td>0</td>\n",
       "      <td>expensive</td>\n",
       "      <td>4.6</td>\n",
       "      <td>darkgreen</td>\n",
       "      <td>Excellent</td>\n",
       "      <td>619</td>\n",
       "    </tr>\n",
       "    <tr>\n",
       "      <th>1</th>\n",
       "      <td>6310675</td>\n",
       "      <td>Mama Lou's Italian Kitchen</td>\n",
       "      <td>Philippines</td>\n",
       "      <td>Las Piñas City</td>\n",
       "      <td>Block 1, Lot 36, Tropical Avenue Corner Tropic...</td>\n",
       "      <td>BF International</td>\n",
       "      <td>BF International, Las Piñas City</td>\n",
       "      <td>121.009787</td>\n",
       "      <td>14.447615</td>\n",
       "      <td>Italian</td>\n",
       "      <td>...</td>\n",
       "      <td>Botswana Pula(P)</td>\n",
       "      <td>1</td>\n",
       "      <td>0</td>\n",
       "      <td>0</td>\n",
       "      <td>0</td>\n",
       "      <td>expensive</td>\n",
       "      <td>4.6</td>\n",
       "      <td>darkgreen</td>\n",
       "      <td>Excellent</td>\n",
       "      <td>619</td>\n",
       "    </tr>\n",
       "    <tr>\n",
       "      <th>2</th>\n",
       "      <td>6314542</td>\n",
       "      <td>Blackbird</td>\n",
       "      <td>Philippines</td>\n",
       "      <td>Makati City</td>\n",
       "      <td>Nielson Tower, Ayala Triangle Gardens, Salcedo...</td>\n",
       "      <td>Ayala Triangle Gardens, Salcedo Village, Makat...</td>\n",
       "      <td>Ayala Triangle Gardens, Salcedo Village, Makat...</td>\n",
       "      <td>121.024562</td>\n",
       "      <td>14.556042</td>\n",
       "      <td>European</td>\n",
       "      <td>...</td>\n",
       "      <td>Botswana Pula(P)</td>\n",
       "      <td>0</td>\n",
       "      <td>0</td>\n",
       "      <td>0</td>\n",
       "      <td>0</td>\n",
       "      <td>gourmet</td>\n",
       "      <td>4.7</td>\n",
       "      <td>darkgreen</td>\n",
       "      <td>Excellent</td>\n",
       "      <td>469</td>\n",
       "    </tr>\n",
       "    <tr>\n",
       "      <th>3</th>\n",
       "      <td>6301293</td>\n",
       "      <td>Banapple</td>\n",
       "      <td>Philippines</td>\n",
       "      <td>Makati City</td>\n",
       "      <td>Ayala Triangle Gardens, Salcedo Village, Makat...</td>\n",
       "      <td>Ayala Triangle Gardens, Salcedo Village, Makat...</td>\n",
       "      <td>Ayala Triangle Gardens, Salcedo Village, Makat...</td>\n",
       "      <td>121.023171</td>\n",
       "      <td>14.556196</td>\n",
       "      <td>Filipino</td>\n",
       "      <td>...</td>\n",
       "      <td>Botswana Pula(P)</td>\n",
       "      <td>0</td>\n",
       "      <td>0</td>\n",
       "      <td>0</td>\n",
       "      <td>0</td>\n",
       "      <td>expensive</td>\n",
       "      <td>4.4</td>\n",
       "      <td>green</td>\n",
       "      <td>Very Good</td>\n",
       "      <td>867</td>\n",
       "    </tr>\n",
       "    <tr>\n",
       "      <th>4</th>\n",
       "      <td>6315689</td>\n",
       "      <td>Bad Bird</td>\n",
       "      <td>Philippines</td>\n",
       "      <td>Makati City</td>\n",
       "      <td>Hole In The Wall, Floor 4, Century City Mall, ...</td>\n",
       "      <td>Century City Mall, Poblacion, Makati City</td>\n",
       "      <td>Century City Mall, Poblacion, Makati City, Mak...</td>\n",
       "      <td>121.027708</td>\n",
       "      <td>14.565899</td>\n",
       "      <td>American</td>\n",
       "      <td>...</td>\n",
       "      <td>Botswana Pula(P)</td>\n",
       "      <td>0</td>\n",
       "      <td>0</td>\n",
       "      <td>0</td>\n",
       "      <td>0</td>\n",
       "      <td>expensive</td>\n",
       "      <td>4.4</td>\n",
       "      <td>green</td>\n",
       "      <td>Very Good</td>\n",
       "      <td>858</td>\n",
       "    </tr>\n",
       "  </tbody>\n",
       "</table>\n",
       "<p>5 rows × 21 columns</p>\n",
       "</div>"
      ],
      "text/plain": [
       "   restaurant_id             restaurant_name country_code            city  \\\n",
       "0        6310675  Mama Lou's Italian Kitchen  Philippines  Las Piñas City   \n",
       "1        6310675  Mama Lou's Italian Kitchen  Philippines  Las Piñas City   \n",
       "2        6314542                   Blackbird  Philippines     Makati City   \n",
       "3        6301293                    Banapple  Philippines     Makati City   \n",
       "4        6315689                    Bad Bird  Philippines     Makati City   \n",
       "\n",
       "                                             address  \\\n",
       "0  Block 1, Lot 36, Tropical Avenue Corner Tropic...   \n",
       "1  Block 1, Lot 36, Tropical Avenue Corner Tropic...   \n",
       "2  Nielson Tower, Ayala Triangle Gardens, Salcedo...   \n",
       "3  Ayala Triangle Gardens, Salcedo Village, Makat...   \n",
       "4  Hole In The Wall, Floor 4, Century City Mall, ...   \n",
       "\n",
       "                                            locality  \\\n",
       "0                                   BF International   \n",
       "1                                   BF International   \n",
       "2  Ayala Triangle Gardens, Salcedo Village, Makat...   \n",
       "3  Ayala Triangle Gardens, Salcedo Village, Makat...   \n",
       "4          Century City Mall, Poblacion, Makati City   \n",
       "\n",
       "                                    locality_verbose   longitude   latitude  \\\n",
       "0                   BF International, Las Piñas City  121.009787  14.447615   \n",
       "1                   BF International, Las Piñas City  121.009787  14.447615   \n",
       "2  Ayala Triangle Gardens, Salcedo Village, Makat...  121.024562  14.556042   \n",
       "3  Ayala Triangle Gardens, Salcedo Village, Makat...  121.023171  14.556196   \n",
       "4  Century City Mall, Poblacion, Makati City, Mak...  121.027708  14.565899   \n",
       "\n",
       "   cuisines  ...          currency has_table_booking  has_online_delivery  \\\n",
       "0   Italian  ...  Botswana Pula(P)                 1                    0   \n",
       "1   Italian  ...  Botswana Pula(P)                 1                    0   \n",
       "2  European  ...  Botswana Pula(P)                 0                    0   \n",
       "3  Filipino  ...  Botswana Pula(P)                 0                    0   \n",
       "4  American  ...  Botswana Pula(P)                 0                    0   \n",
       "\n",
       "   is_delivering_now  switch_to_order_menu  price_range aggregate_rating  \\\n",
       "0                  0                     0    expensive              4.6   \n",
       "1                  0                     0    expensive              4.6   \n",
       "2                  0                     0      gourmet              4.7   \n",
       "3                  0                     0    expensive              4.4   \n",
       "4                  0                     0    expensive              4.4   \n",
       "\n",
       "   rating_color rating_text votes  \n",
       "0     darkgreen   Excellent   619  \n",
       "1     darkgreen   Excellent   619  \n",
       "2     darkgreen   Excellent   469  \n",
       "3         green   Very Good   867  \n",
       "4         green   Very Good   858  \n",
       "\n",
       "[5 rows x 21 columns]"
      ]
     },
     "execution_count": 33,
     "metadata": {},
     "output_type": "execute_result"
    }
   ],
   "source": [
    "df.head()"
   ]
  },
  {
   "cell_type": "markdown",
   "id": "73b554ab-3ed9-4599-86e2-f01c622f4a29",
   "metadata": {},
   "source": [
    "Qual o nome do país que possui, na média, a menor nota média registrada?"
   ]
  },
  {
   "cell_type": "code",
   "execution_count": 127,
   "id": "62e603e2-3d86-4a31-9f04-fbb48979d802",
   "metadata": {},
   "outputs": [
    {
     "data": {
      "text/plain": [
       "'Australia'"
      ]
     },
     "execution_count": 127,
     "metadata": {},
     "output_type": "execute_result"
    }
   ],
   "source": [
    "df.loc[:,['aggregate_rating', 'country_code']].groupby('country_code').min().reset_index().iloc[0,0]"
   ]
  },
  {
   "cell_type": "markdown",
   "id": "81b9d58c-892f-409a-920c-82ee5b1473c8",
   "metadata": {},
   "source": [
    "11. Qual a média de preço de um prato para dois por país?"
   ]
  },
  {
   "cell_type": "code",
   "execution_count": 154,
   "id": "05919621-7631-4b50-817e-1bc8ea3c4977",
   "metadata": {},
   "outputs": [
    {
     "data": {
      "text/html": [
       "<div>\n",
       "<style scoped>\n",
       "    .dataframe tbody tr th:only-of-type {\n",
       "        vertical-align: middle;\n",
       "    }\n",
       "\n",
       "    .dataframe tbody tr th {\n",
       "        vertical-align: top;\n",
       "    }\n",
       "\n",
       "    .dataframe thead th {\n",
       "        text-align: right;\n",
       "    }\n",
       "</style>\n",
       "<table border=\"1\" class=\"dataframe\">\n",
       "  <thead>\n",
       "    <tr style=\"text-align: right;\">\n",
       "      <th></th>\n",
       "      <th>country_code</th>\n",
       "      <th>average_cost_for_two</th>\n",
       "    </tr>\n",
       "  </thead>\n",
       "  <tbody>\n",
       "    <tr>\n",
       "      <th>0</th>\n",
       "      <td>Indonesia</td>\n",
       "      <td>312682.926829</td>\n",
       "    </tr>\n",
       "    <tr>\n",
       "      <th>1</th>\n",
       "      <td>Australia</td>\n",
       "      <td>138959.783333</td>\n",
       "    </tr>\n",
       "    <tr>\n",
       "      <th>2</th>\n",
       "      <td>Sri Lanka</td>\n",
       "      <td>2607.471264</td>\n",
       "    </tr>\n",
       "    <tr>\n",
       "      <th>3</th>\n",
       "      <td>Philippines</td>\n",
       "      <td>1211.090909</td>\n",
       "    </tr>\n",
       "    <tr>\n",
       "      <th>4</th>\n",
       "      <td>India</td>\n",
       "      <td>702.303964</td>\n",
       "    </tr>\n",
       "    <tr>\n",
       "      <th>5</th>\n",
       "      <td>South Africa</td>\n",
       "      <td>335.479058</td>\n",
       "    </tr>\n",
       "    <tr>\n",
       "      <th>6</th>\n",
       "      <td>Qatar</td>\n",
       "      <td>176.648936</td>\n",
       "    </tr>\n",
       "    <tr>\n",
       "      <th>7</th>\n",
       "      <td>United Arab Emirates</td>\n",
       "      <td>158.218563</td>\n",
       "    </tr>\n",
       "    <tr>\n",
       "      <th>8</th>\n",
       "      <td>Singapure</td>\n",
       "      <td>141.036585</td>\n",
       "    </tr>\n",
       "    <tr>\n",
       "      <th>9</th>\n",
       "      <td>Brazil</td>\n",
       "      <td>137.375479</td>\n",
       "    </tr>\n",
       "    <tr>\n",
       "      <th>10</th>\n",
       "      <td>Turkey</td>\n",
       "      <td>128.848485</td>\n",
       "    </tr>\n",
       "    <tr>\n",
       "      <th>11</th>\n",
       "      <td>New Zeland</td>\n",
       "      <td>61.442688</td>\n",
       "    </tr>\n",
       "    <tr>\n",
       "      <th>12</th>\n",
       "      <td>United States of America</td>\n",
       "      <td>54.921864</td>\n",
       "    </tr>\n",
       "    <tr>\n",
       "      <th>13</th>\n",
       "      <td>England</td>\n",
       "      <td>43.045767</td>\n",
       "    </tr>\n",
       "    <tr>\n",
       "      <th>14</th>\n",
       "      <td>Canada</td>\n",
       "      <td>41.861111</td>\n",
       "    </tr>\n",
       "  </tbody>\n",
       "</table>\n",
       "</div>"
      ],
      "text/plain": [
       "                country_code  average_cost_for_two\n",
       "0                  Indonesia         312682.926829\n",
       "1                  Australia         138959.783333\n",
       "2                  Sri Lanka           2607.471264\n",
       "3                Philippines           1211.090909\n",
       "4                      India            702.303964\n",
       "5               South Africa            335.479058\n",
       "6                      Qatar            176.648936\n",
       "7       United Arab Emirates            158.218563\n",
       "8                  Singapure            141.036585\n",
       "9                     Brazil            137.375479\n",
       "10                    Turkey            128.848485\n",
       "11                New Zeland             61.442688\n",
       "12  United States of America             54.921864\n",
       "13                   England             43.045767\n",
       "14                    Canada             41.861111"
      ]
     },
     "execution_count": 154,
     "metadata": {},
     "output_type": "execute_result"
    }
   ],
   "source": [
    "df.loc[:,['average_cost_for_two', 'country_code']].groupby('country_code').mean().sort_values('average_cost_for_two', ascending = False).reset_index()"
   ]
  },
  {
   "cell_type": "markdown",
   "id": "feb0be8b-3fac-4a3a-bb18-cee865fa89d0",
   "metadata": {},
   "source": [
    "Respondendo as perguntas - Cidade"
   ]
  },
  {
   "cell_type": "markdown",
   "id": "4a2b3e8b-82a5-459f-8b72-56809de18785",
   "metadata": {},
   "source": [
    "1. Qual o nome da cidade que possui mais restaurantes registrados?"
   ]
  },
  {
   "cell_type": "code",
   "execution_count": 19,
   "id": "b2a08298-6606-43c5-b231-b4e87314ea56",
   "metadata": {},
   "outputs": [
    {
     "data": {
      "text/plain": [
       "'Abu Dhabi'"
      ]
     },
     "execution_count": 19,
     "metadata": {},
     "output_type": "execute_result"
    }
   ],
   "source": [
    "df.loc[:,['city', 'restaurant_id']].drop_duplicates().groupby('city').count().reset_index().sort_values('restaurant_id', ascending = False).iloc[0,0]"
   ]
  },
  {
   "cell_type": "markdown",
   "id": "4005b97d-6977-45fe-9949-d449779bb52f",
   "metadata": {},
   "source": [
    "2. Qual o nome da cidade que possui mais restaurantes com nota média acima de 4"
   ]
  },
  {
   "cell_type": "code",
   "execution_count": 126,
   "id": "b28cfc75-d6be-4df5-a4ec-6dbe920becb6",
   "metadata": {},
   "outputs": [
    {
     "data": {
      "text/plain": [
       "'Kolkata'"
      ]
     },
     "execution_count": 126,
     "metadata": {},
     "output_type": "execute_result"
    }
   ],
   "source": [
    "df.loc[df[\"aggregate_rating\"] >= 4, \"city\"].value_counts().reset_index().iloc[0,0]"
   ]
  },
  {
   "cell_type": "code",
   "execution_count": 125,
   "id": "1bbcdd76-49d5-47a0-826b-746a1730ecb8",
   "metadata": {},
   "outputs": [
    {
     "data": {
      "text/plain": [
       "'Kolkata'"
      ]
     },
     "execution_count": 125,
     "metadata": {},
     "output_type": "execute_result"
    }
   ],
   "source": [
    "(df.loc[df['aggregate_rating'] >= 4, ['restaurant_id', 'city'] ]\n",
    "                                         .groupby('city')\n",
    "                                         .count()\n",
    "                                         .sort_values('restaurant_id', ascending=False)\n",
    "                                         .reset_index()).iloc[0, 0]"
   ]
  },
  {
   "cell_type": "markdown",
   "id": "8fabb973-9c25-47bd-aea8-3e2d8465194e",
   "metadata": {},
   "source": [
    "3. Qual o nome da cidade que possui mais restaurantes com nota média abaixo de 2.5?"
   ]
  },
  {
   "cell_type": "code",
   "execution_count": 11,
   "id": "8fbd1e9a-2dec-4e9f-bbb5-adbb96b9e83e",
   "metadata": {},
   "outputs": [
    {
     "data": {
      "text/plain": [
       "'Gangtok'"
      ]
     },
     "execution_count": 11,
     "metadata": {},
     "output_type": "execute_result"
    }
   ],
   "source": [
    "df.loc[df[\"aggregate_rating\"] < 2.5, \"city\"].value_counts().reset_index().iloc[0,0]"
   ]
  },
  {
   "cell_type": "markdown",
   "id": "94ec204d-0590-4b8a-8a70-4385bf31fe45",
   "metadata": {},
   "source": [
    "4.Qual o nome da cidade que possui o maior valor médio de um prato para dois?"
   ]
  },
  {
   "cell_type": "code",
   "execution_count": 31,
   "id": "529d3768-f080-4309-ac59-20ee3632b166",
   "metadata": {},
   "outputs": [
    {
     "data": {
      "text/plain": [
       "'Adelaide'"
      ]
     },
     "execution_count": 31,
     "metadata": {},
     "output_type": "execute_result"
    }
   ],
   "source": [
    "df.loc[:,['average_cost_for_two', 'city']].groupby('city').mean().reset_index().sort_values('average_cost_for_two', ascending = False).iloc[0,0]"
   ]
  },
  {
   "cell_type": "markdown",
   "id": "a35b40ce-65cc-4feb-b0fd-199fec9a8844",
   "metadata": {},
   "source": [
    "5. Qual o nome da cidade que possui a maior quantidade de tipos de culinária distintas?"
   ]
  },
  {
   "cell_type": "code",
   "execution_count": 41,
   "id": "8e0145df-c8ca-47c4-b8b1-323401019531",
   "metadata": {},
   "outputs": [
    {
     "data": {
      "text/plain": [
       "'Birmingham'"
      ]
     },
     "execution_count": 41,
     "metadata": {},
     "output_type": "execute_result"
    }
   ],
   "source": [
    "df.loc[:,['cuisines','city']].drop_duplicates().groupby('city').count().reset_index().sort_values('cuisines',ascending = False).iloc[0,0]"
   ]
  },
  {
   "cell_type": "markdown",
   "id": "69dc5952-9ba5-4fee-81df-3e90e1c67ded",
   "metadata": {},
   "source": [
    "6. Qual o nome da cidade que possui a maior quantidade de restaurantes que fazem reservas?"
   ]
  },
  {
   "cell_type": "code",
   "execution_count": 66,
   "id": "ff5c308c-4219-480d-b989-6079142bcfb0",
   "metadata": {},
   "outputs": [
    {
     "data": {
      "text/plain": [
       "Bangalore    47\n",
       "Name: city, dtype: int64"
      ]
     },
     "execution_count": 66,
     "metadata": {},
     "output_type": "execute_result"
    }
   ],
   "source": [
    "df.loc[df[\"has_table_booking\"] == 1  ,\"city\"].value_counts().head(1)"
   ]
  },
  {
   "cell_type": "code",
   "execution_count": 67,
   "id": "d144c108-718d-40b7-bfd7-3fe369cec444",
   "metadata": {},
   "outputs": [
    {
     "data": {
      "text/plain": [
       "'Bangalore'"
      ]
     },
     "execution_count": 67,
     "metadata": {},
     "output_type": "execute_result"
    }
   ],
   "source": [
    "df.loc[df['has_table_booking'] == 1, ['restaurant_id', 'city'] ].groupby('city').count().sort_values('restaurant_id', ascending=False).reset_index().iloc[0, 0]"
   ]
  },
  {
   "cell_type": "markdown",
   "id": "834ab8ec-13c5-424b-b13e-4e295c05b9cb",
   "metadata": {},
   "source": [
    "7. Qual o nome da cidade que possui a maior quantidade de restaurantes que fazem entregas?"
   ]
  },
  {
   "cell_type": "code",
   "execution_count": 70,
   "id": "f3ee7107-d390-469a-b383-60621174ee51",
   "metadata": {},
   "outputs": [
    {
     "data": {
      "text/plain": [
       "'Aurangabad'"
      ]
     },
     "execution_count": 70,
     "metadata": {},
     "output_type": "execute_result"
    }
   ],
   "source": [
    "df.loc[df['is_delivering_now'] == 1,['restaurant_id', 'city']].groupby('city').count().sort_values('restaurant_id', ascending =False).reset_index().iloc[0,0]"
   ]
  },
  {
   "cell_type": "markdown",
   "id": "3edc8d37-ddb5-4ce3-85a1-66480d82ddef",
   "metadata": {},
   "source": [
    "8. Qual o nome da cidade que possui a maior quantidade de restaurantes queaceitam pedidos online?"
   ]
  },
  {
   "cell_type": "code",
   "execution_count": 75,
   "id": "fcd9f0a6-6cee-42e4-8914-e1949ed8270d",
   "metadata": {},
   "outputs": [
    {
     "data": {
      "text/plain": [
       "'Abu Dhabi'"
      ]
     },
     "execution_count": 75,
     "metadata": {},
     "output_type": "execute_result"
    }
   ],
   "source": [
    "df.loc[df['has_online_delivery']==1,['restaurant_id','city']].groupby('city').count().reset_index().sort_values('restaurant_id',ascending =False).iloc[0,0]"
   ]
  },
  {
   "cell_type": "markdown",
   "id": "eab4951d-bdf4-4539-be02-f3fa4e7f3856",
   "metadata": {},
   "source": [
    "Respondendo as perguntas - Restaurantes"
   ]
  },
  {
   "cell_type": "markdown",
   "id": "2065144a-de55-417d-8bf7-58882f0d1a6a",
   "metadata": {},
   "source": [
    "1. Qual o nome do restaurante que possui a maior quantidade de avaliações?"
   ]
  },
  {
   "cell_type": "code",
   "execution_count": 105,
   "id": "450ed991-cad3-4faf-98f7-afa79d973173",
   "metadata": {},
   "outputs": [
    {
     "data": {
      "text/plain": [
       "\"Domino's Pizza\""
      ]
     },
     "execution_count": 105,
     "metadata": {},
     "output_type": "execute_result"
    }
   ],
   "source": [
    "df.loc[:,['restaurant_name', 'votes']].groupby('restaurant_name').count().reset_index().sort_values('votes', ascending=False).iloc[0,0]"
   ]
  },
  {
   "cell_type": "code",
   "execution_count": 98,
   "id": "9bbe1d96-0d3f-4e9e-8039-457314637bf2",
   "metadata": {},
   "outputs": [
    {
     "data": {
      "text/plain": [
       "'Bawarchi'"
      ]
     },
     "execution_count": 98,
     "metadata": {},
     "output_type": "execute_result"
    }
   ],
   "source": [
    "cols = [\n",
    "    'restaurant_id', 'restaurant_name', 'country_code', \n",
    "    'city', 'cuisines', 'aggregate_rating', 'votes'\n",
    "]\n",
    "\n",
    "df.loc[:, cols].sort_values(['votes', 'restaurant_id'], ascending=[False, True]).iloc[0,1]"
   ]
  },
  {
   "cell_type": "markdown",
   "id": "a4f1d9ca-ea16-468d-940b-409b765459c2",
   "metadata": {},
   "source": [
    "2. Qual o nome do restaurante com a maior nota média?"
   ]
  },
  {
   "cell_type": "code",
   "execution_count": 114,
   "id": "46b6c878-de34-4ba7-9124-aec8a858c69e",
   "metadata": {},
   "outputs": [
    {
     "data": {
      "text/plain": [
       "'Earl of Sandwich'"
      ]
     },
     "execution_count": 114,
     "metadata": {},
     "output_type": "execute_result"
    }
   ],
   "source": [
    "df.loc[:,['restaurant_name','aggregate_rating']].groupby('restaurant_name').mean().reset_index().sort_values('aggregate_rating', ascending=False).iloc[0,0]"
   ]
  },
  {
   "cell_type": "markdown",
   "id": "5bd13509-1850-4f8e-8442-4839c0d86534",
   "metadata": {},
   "source": [
    "3. Qual o nome do restaurante que possui o maior valor de uma prato para duas pessoas?"
   ]
  },
  {
   "cell_type": "code",
   "execution_count": 121,
   "id": "e1e8db9d-36c4-49a7-82fa-cfb38ed89431",
   "metadata": {},
   "outputs": [
    {
     "data": {
      "text/html": [
       "<div>\n",
       "<style scoped>\n",
       "    .dataframe tbody tr th:only-of-type {\n",
       "        vertical-align: middle;\n",
       "    }\n",
       "\n",
       "    .dataframe tbody tr th {\n",
       "        vertical-align: top;\n",
       "    }\n",
       "\n",
       "    .dataframe thead th {\n",
       "        text-align: right;\n",
       "    }\n",
       "</style>\n",
       "<table border=\"1\" class=\"dataframe\">\n",
       "  <thead>\n",
       "    <tr style=\"text-align: right;\">\n",
       "      <th></th>\n",
       "      <th>restaurant_name</th>\n",
       "      <th>average_cost_for_two</th>\n",
       "    </tr>\n",
       "  </thead>\n",
       "  <tbody>\n",
       "    <tr>\n",
       "      <th>1528</th>\n",
       "      <td>Domino's Pizza</td>\n",
       "      <td>204</td>\n",
       "    </tr>\n",
       "    <tr>\n",
       "      <th>2605</th>\n",
       "      <td>KFC</td>\n",
       "      <td>51</td>\n",
       "    </tr>\n",
       "    <tr>\n",
       "      <th>3912</th>\n",
       "      <td>Pizza Hut</td>\n",
       "      <td>40</td>\n",
       "    </tr>\n",
       "    <tr>\n",
       "      <th>3226</th>\n",
       "      <td>McDonald's</td>\n",
       "      <td>36</td>\n",
       "    </tr>\n",
       "    <tr>\n",
       "      <th>458</th>\n",
       "      <td>Barbeque Nation</td>\n",
       "      <td>32</td>\n",
       "    </tr>\n",
       "    <tr>\n",
       "      <th>...</th>\n",
       "      <td>...</td>\n",
       "      <td>...</td>\n",
       "    </tr>\n",
       "    <tr>\n",
       "      <th>2088</th>\n",
       "      <td>Grillfish DC</td>\n",
       "      <td>1</td>\n",
       "    </tr>\n",
       "    <tr>\n",
       "      <th>2087</th>\n",
       "      <td>Grille Restaurant</td>\n",
       "      <td>1</td>\n",
       "    </tr>\n",
       "    <tr>\n",
       "      <th>2086</th>\n",
       "      <td>Grillaz</td>\n",
       "      <td>1</td>\n",
       "    </tr>\n",
       "    <tr>\n",
       "      <th>2085</th>\n",
       "      <td>Grill and Shakes</td>\n",
       "      <td>1</td>\n",
       "    </tr>\n",
       "    <tr>\n",
       "      <th>5913</th>\n",
       "      <td>ह-tea The Tea Hut</td>\n",
       "      <td>1</td>\n",
       "    </tr>\n",
       "  </tbody>\n",
       "</table>\n",
       "<p>5914 rows × 2 columns</p>\n",
       "</div>"
      ],
      "text/plain": [
       "        restaurant_name  average_cost_for_two\n",
       "1528     Domino's Pizza                   204\n",
       "2605                KFC                    51\n",
       "3912          Pizza Hut                    40\n",
       "3226         McDonald's                    36\n",
       "458     Barbeque Nation                    32\n",
       "...                 ...                   ...\n",
       "2088       Grillfish DC                     1\n",
       "2087  Grille Restaurant                     1\n",
       "2086            Grillaz                     1\n",
       "2085   Grill and Shakes                     1\n",
       "5913  ह-tea The Tea Hut                     1\n",
       "\n",
       "[5914 rows x 2 columns]"
      ]
     },
     "execution_count": 121,
     "metadata": {},
     "output_type": "execute_result"
    }
   ],
   "source": [
    "#Domino's Pizza"
   ]
  }
 ],
 "metadata": {
  "kernelspec": {
   "display_name": "Python 3 (ipykernel)",
   "language": "python",
   "name": "python3"
  },
  "language_info": {
   "codemirror_mode": {
    "name": "ipython",
    "version": 3
   },
   "file_extension": ".py",
   "mimetype": "text/x-python",
   "name": "python",
   "nbconvert_exporter": "python",
   "pygments_lexer": "ipython3",
   "version": "3.8.15"
  }
 },
 "nbformat": 4,
 "nbformat_minor": 5
}
